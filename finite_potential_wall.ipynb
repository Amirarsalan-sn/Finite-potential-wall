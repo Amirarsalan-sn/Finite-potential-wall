{
  "nbformat": 4,
  "nbformat_minor": 0,
  "metadata": {
    "colab": {
      "provenance": []
    },
    "kernelspec": {
      "name": "python3",
      "display_name": "Python 3"
    },
    "language_info": {
      "name": "python"
    }
  },
  "cells": [
    {
      "cell_type": "code",
      "execution_count": null,
      "metadata": {
        "id": "DZkKxcGNmHXv"
      },
      "outputs": [],
      "source": [
        "import numpy as np\n",
        "import matplotlib.pyplot as plt\n",
        "from matplotlib.animation import FuncAnimation, FFMpegWriter\n",
        "import sys"
      ]
    },
    {
      "cell_type": "code",
      "source": [
        "left = np.ones((495,))\n",
        "middle = np.ones((10,))\n",
        "right = np.ones((495,))\n",
        "np.concatenate((left, middle, right), axis=0).shape"
      ],
      "metadata": {
        "colab": {
          "base_uri": "https://localhost:8080/"
        },
        "id": "ZPG20YzxH2fd",
        "outputId": "b3a02ab4-18c5-450b-fbee-89b9d7ae3b56"
      },
      "execution_count": null,
      "outputs": [
        {
          "output_type": "execute_result",
          "data": {
            "text/plain": [
              "(1000,)"
            ]
          },
          "metadata": {},
          "execution_count": 2
        }
      ]
    },
    {
      "cell_type": "code",
      "source": [
        "a = 0.1\n",
        "V0 = 2\n",
        "m = 1\n",
        "h_bar = 1\n",
        "\n",
        "number_of_states = 1000\n",
        "max_e = 20\n",
        "x_std_2 = h_bar/2\n",
        "\n",
        "position = np.linspace(-30, 30, 1000)\n",
        "delta_x = 60/1000\n",
        "\n",
        "x_bar = -a - 12*np.sqrt(x_std_2)\n",
        "p_bar = 4\n",
        "\n",
        "speed = 1\n",
        "fps = 30"
      ],
      "metadata": {
        "id": "p8MZKtpHm4eE"
      },
      "execution_count": null,
      "outputs": []
    },
    {
      "cell_type": "code",
      "source": [
        "def calc_k(e) :\n",
        "  global V0, m, h_bar\n",
        "  if e < V0:\n",
        "    return np.sqrt((2*m)*(V0 - e))/h_bar\n",
        "  elif e > V0:\n",
        "    return np.sqrt((2*m)*(e - V0))/h_bar\n",
        "  else:\n",
        "    raise ValueError(\"e = V0\")\n",
        "\n",
        "def calc_kappa(e) :\n",
        "  global m, h_bar\n",
        "  return np.sqrt((2*m)*e)/h_bar\n",
        "\n",
        "def calc_reverse_kappa(kappa):\n",
        "  global m, h_bar\n",
        "  return ((kappa*h_bar)**2)/2*m\n",
        "\n",
        "def calc_r(e, k, kappa):\n",
        "  global V0, m, h_bar, a\n",
        "  if e < V0:\n",
        "    numerator = (kappa**2 + k**2)*(np.exp(-k*a) - np.exp(3*k*a))\n",
        "    denominator = (kappa**2 - k**2)*((np.exp(-k*a) - np.exp(3*k*a))) - 2j*k*kappa*(np.exp(-k*a) + np.exp(3*k*a))\n",
        "  elif e > V0:\n",
        "    numerator = (kappa**2 - k**2)*(np.sin(2*k*a))\n",
        "    denominator = (kappa**2 + k**2)*np.sin(2*k*a) + 2j*k*kappa*np.cos(2*k*a)\n",
        "  else:\n",
        "    raise ValueError(\"e = V0\")\n",
        "\n",
        "  return (numerator/denominator)*np.exp(-2j*kappa*a)\n",
        "\n",
        "def calc_t(e, k, kappa):\n",
        "  global V0, m, h_bar\n",
        "  if e < V0:\n",
        "    numerator = 2j*kappa*(-2*k)*np.exp(k*a)\n",
        "    denominator = (kappa**2 - k**2)*((np.exp(-k*a) - np.exp(3*k*a))) - 2j*k*kappa*(np.exp(-k*a) + np.exp(3*k*a))\n",
        "  elif e > V0:\n",
        "    numerator = 2j*kappa*k\n",
        "    denominator = (kappa**2 + k**2)*np.sin(2*k*a) + 2j*k*kappa*np.cos(2*k*a)\n",
        "  else:\n",
        "    raise ValueError(\"e = V0\")\n",
        "\n",
        "  return (numerator/denominator)*np.exp(-2j*kappa*a)\n",
        "\n",
        "def calc_c(e, k, kappa, f):\n",
        "  global V0, m, h_bar\n",
        "  if e < V0:\n",
        "    landa = 1j*kappa - k\n",
        "    landa_conj = -1j*kappa - k\n",
        "    denominator = ((landa + landa_conj)/landa_conj)*np.exp(k*a)*np.exp(-1j*kappa*a)\n",
        "    return f/denominator\n",
        "  elif e > V0:\n",
        "    numerator = (2j*kappa*np.exp(-1j*kappa*a))*(k*np.cos(k*a) -1j*kappa*np.sin(k*a))\n",
        "    denominator = (k**2 + kappa**2)*np.sin(2*k*a) + 2j*kappa*k*np.cos(2*k*a)\n",
        "    return numerator/denominator\n",
        "  else:\n",
        "    raise ValueError(\"e = V0\")\n",
        "\n",
        "def calc_d(e, c, k, kappa):\n",
        "  global V0, m, h_bar\n",
        "  if e < V0:\n",
        "    landa = 1j*kappa - k\n",
        "    landa_conj = -1j*kappa -k\n",
        "    return c*landa*np.exp(2*k*a)/landa_conj\n",
        "  elif e > V0:\n",
        "    numerator = k*np.sin(k*a) + 1j*kappa*np.cos(k*a)\n",
        "    denominator = k*np.cos(k*a) - 1j*kappa*np.sin(k*a)\n",
        "    return c*numerator/denominator\n",
        "  else:\n",
        "    raise ValueError(\"e = V0\")\n",
        "\n",
        "def psi(x: np.ndarray, e) :\n",
        "  global a, V0, m, h_bar\n",
        "\n",
        "  k = calc_k(e)\n",
        "  kappa = calc_kappa(e)\n",
        "  r = calc_r(e, k, kappa)\n",
        "  t = calc_t(e, k, kappa)\n",
        "  c = calc_c(e, k, kappa, t)\n",
        "  d = calc_d(e, c, k, kappa)\n",
        "\n",
        "  left_region = x[x < -a]\n",
        "  middle_region = x[(-a <= x) & (x <= a)]\n",
        "  right_region = x[x > a]\n",
        "\n",
        "  if e < V0:\n",
        "    left_region = np.exp(1j*kappa*left_region) + r*np.exp(-1j*kappa*left_region)\n",
        "    middle_region = c*np.exp(k*middle_region) + d*np.exp(-k*middle_region)\n",
        "    right_region = t*np.exp(1j*kappa*right_region)\n",
        "\n",
        "  elif e > V0:\n",
        "    left_region = np.exp(1j*kappa*left_region) + r*np.exp(-1j*kappa*left_region)\n",
        "    middle_region = c*np.cos(k*middle_region) + d*np.sin(-k*middle_region)\n",
        "    right_region = t*np.exp(1j*kappa*right_region)\n",
        "  else:\n",
        "    raise ValueError(\"e = V0\")\n",
        "\n",
        "  return (1/np.sqrt(2*np.pi)) * np.concatenate((left_region, middle_region, right_region), axis=0), r, kappa\n",
        "\n",
        "def initial_psi(x: np.ndarray):\n",
        "  global h_bar, x_bar, p_bar, x_std_2\n",
        "  momentum = np.exp(1j*p_bar*x/h_bar)\n",
        "  normal = np.exp(-(x-x_bar)**2 / (4*x_std_2))\n",
        "  return (np.pow(2*np.pi*x_std_2, -0.25)) * momentum * normal\n",
        "\n",
        "def calc_coef(kappa, r):\n",
        "  global h_bar, x_bar, p_bar, x_std_2\n",
        "  momentum_1 = np.exp(1j*((p_bar/h_bar) - kappa)*x_bar)\n",
        "  normal_1 = np.exp((-((p_bar/h_bar) - kappa)**2)*x_std_2)\n",
        "  momentum_2 = np.exp(1j*((p_bar/h_bar) + kappa)*x_bar)\n",
        "  normal_2 = np.exp((-((p_bar/h_bar) + kappa)**2)*x_std_2)\n",
        "\n",
        "  return (np.pow(2*np.pi*(1/(4*x_std_2)), -0.25))*(momentum_1*normal_1 + r*momentum_2*normal_2)\n",
        "\n",
        "def potential(x: np.ndarray):\n",
        "  global V0, a\n",
        "  v = np.zeros_like(x)\n",
        "  v[(-a <= x) & (x <= a)] = V0\n",
        "  return v\n",
        "\n",
        "def time_component(t, e):\n",
        "  global h_bar\n",
        "  return np.exp(-1j*e*t/h_bar)\n",
        "\n",
        "def calc_collide_time():\n",
        "  global m, p_bar, x_std_2\n",
        "  return (12*np.sqrt(x_std_2)*m/p_bar)"
      ],
      "metadata": {
        "id": "kMFvLYU0mOuK"
      },
      "execution_count": null,
      "outputs": []
    },
    {
      "cell_type": "markdown",
      "source": [
        "Now the main program starts."
      ],
      "metadata": {
        "id": "vvkJtwoT8IYN"
      }
    },
    {
      "cell_type": "code",
      "source": [
        "psi_0 = initial_psi(position)\n",
        "v_x = potential(position)\n",
        "c_k = np.ndarray((number_of_states,), complex)\n",
        "psi_e_s = np.ndarray((number_of_states, 1000), complex)\n",
        "energies = np.ndarray((number_of_states,), float)\n",
        "\n",
        "max_kappa = calc_kappa(max_e)\n",
        "delta_kappa = max_kappa/number_of_states\n",
        "kappa = delta_kappa\n",
        "\n",
        "for i in range(number_of_states):\n",
        "  energy = calc_reverse_kappa(kappa)\n",
        "\n",
        "  if energy == V0:\n",
        "    energies[i] = energy\n",
        "    c_k[i] = 0\n",
        "    psi_e_s[i] = np.zeros((1000,), complex)\n",
        "    sys.stderr.write(\"Encountered E = V0!!!\")\n",
        "    sys.stderr.flush()\n",
        "  else:\n",
        "    energies[i] = energy\n",
        "    psi_e, r, kappa = psi(position, energy)\n",
        "    c_k[i] = calc_coef(kappa, r)\n",
        "    psi_e_s[i] = psi_e\n",
        "\n",
        "  sys.stdout.write(\"\\033[K\")\n",
        "  sys.stdout.write(f'\\rInitial Progress: {(i*100/number_of_states):2.2f}%')\n",
        "  sys.stdout.flush()\n",
        "\n",
        "  kappa += delta_kappa\n",
        "\n",
        "normalization_factor = 1/(np.sqrt((np.conj(c_k).T @ c_k)*delta_kappa))\n",
        "print(f'\\n norm factor: {normalization_factor}')\n",
        "c_k *= normalization_factor\n",
        "print(f'\\nc_k after: {(np.conj(c_k).T @ c_k)*delta_kappa}')\n",
        "simulation_time = 5*calc_collide_time()\n",
        "number_of_frames = int(simulation_time*fps/speed)\n",
        "\n",
        "fig, ax = plt.subplots()\n",
        "ax.set_ylim(-1, 1)\n",
        "ax.set_xlim(-30, 30)\n",
        "psi_norm, = ax.plot([], [], label=r'$\\psi^{*}\\times\\psi$')\n",
        "psi_real, = ax.plot([], [], label=r'$Re\\{\\psi\\}$')\n",
        "psi_img, = ax.plot([], [], label=r'$Img\\{\\psi\\}$')\n",
        "v_plot, = ax.plot([], [], label=r'$V(x)$')\n",
        "\n",
        "legend = ax.legend(loc='upper right')\n",
        "\n",
        "print(f'\\nintegral of actual psi: {(np.conj(psi_0).T @ psi_0) * delta_x}')\n",
        "app_psi = (c_k * delta_kappa) @ psi_e_s\n",
        "print(f'\\nintegral of app psi: {(np.conj(app_psi).T @ app_psi) * delta_x}')\n",
        "\n",
        "def init():\n",
        "  norm = (np.conj(psi_0)*psi_0).real\n",
        "  psi_norm.set_data(position, norm)\n",
        "  psi_real.set_data(position, psi_0.real)\n",
        "  psi_img.set_data(position, psi_0.imag)\n",
        "  v_plot.set_data(position, v_x)\n",
        "\n",
        "  return (psi_norm, psi_real, psi_img, v_plot, *legend.get_lines(), *legend.get_texts())\n",
        "\n",
        "def animate(frame):\n",
        "  time = frame*simulation_time/number_of_frames\n",
        "  time_evolution = time_component(time, energies)\n",
        "  c_evolution = c_k * time_evolution * delta_kappa\n",
        "  psi_evolution = c_evolution @ psi_e_s\n",
        "\n",
        "\n",
        "  ax.set_title(f't = {time:2.2f}')\n",
        "  norm = (np.conj(psi_evolution)*psi_evolution).real\n",
        "  psi_norm.set_ydata(norm)\n",
        "  psi_real.set_ydata(psi_evolution.real)\n",
        "  psi_img.set_ydata(psi_evolution.imag)\n",
        "\n",
        "  sys.stdout.write(\"\\033[K\")\n",
        "  sys.stdout.write(f'\\rProgress: {(frame*100/number_of_frames):2.2f}%, number of frames: {number_of_frames}, current: {frame}, approximate collidance time: {simulation_time}')\n",
        "  sys.stdout.flush()\n",
        "\n",
        "  return (psi_norm, psi_real, psi_img, *legend.get_lines(), *legend.get_texts())\n",
        "\n",
        "plt.tight_layout()\n",
        "ani = FuncAnimation(fig, animate, frames=number_of_frames, init_func=init, blit=True)\n",
        "writer = FFMpegWriter(fps=fps, bitrate=5000)\n",
        "ani.save(f'simulation_pbar_{p_bar:2.2f}_a_{a:2.2f}_V0_{V0:2.2f}_time_{simulation_time:2.2f}.mp4', writer=writer, dpi=300)\n",
        "\n",
        "plt.close()\n",
        "\n",
        "print('\\nSimulation completed.')"
      ],
      "metadata": {
        "id": "SjH5ZH2e11E1",
        "colab": {
          "base_uri": "https://localhost:8080/"
        },
        "outputId": "756a9c60-7037-4056-8318-0aabdbebef44"
      },
      "execution_count": null,
      "outputs": [
        {
          "output_type": "stream",
          "name": "stdout",
          "text": [
            "Initial Progress: 99.90%\n",
            " norm factor: (1.000248875145966+0j)\n",
            "\n",
            "c_k after: (0.9999999999999999+0j)\n",
            "\n",
            "integral of actual psi: (0.9990000000000003+0j)\n",
            "\n",
            "integral of app psi: (0.998971385911168+0j)\n",
            "Progress: 99.69%, number of frames: 318, current: 317, approximate collidance time: 10.606601717798213\n",
            "Simulation completed.\n"
          ]
        }
      ]
    },
    {
      "cell_type": "code",
      "source": [
        "x  = np.linspace(-20, 20, 1000)\n",
        "func = initial_psi(x)\n",
        "print((np.conj(func).T @ func)*(40/1000))\n",
        "plt.plot(x, func.real, label=\"real\")\n",
        "plt.plot(x, func.imag, label=\"img\")\n",
        "plt.plot(x, np.conj(func)*func, label=\"norm\")\n",
        "plt.title(f'integral: {((np.conj(func)*func)@np.ones(x.shape[0], complex))/x.shape[0]}')\n",
        "plt.legend()\n",
        "plt.show()"
      ],
      "metadata": {
        "id": "Hl-M6JRX8mK0",
        "colab": {
          "base_uri": "https://localhost:8080/",
          "height": 543
        },
        "outputId": "1c7ae391-8c08-4f5a-d019-a34a00f4d173"
      },
      "execution_count": null,
      "outputs": [
        {
          "output_type": "stream",
          "name": "stdout",
          "text": [
            "(0.9990000000000003+0j)\n"
          ]
        },
        {
          "output_type": "stream",
          "name": "stderr",
          "text": [
            "/usr/local/lib/python3.11/dist-packages/matplotlib/cbook.py:1709: ComplexWarning: Casting complex values to real discards the imaginary part\n",
            "  return math.isfinite(val)\n",
            "/usr/local/lib/python3.11/dist-packages/matplotlib/cbook.py:1345: ComplexWarning: Casting complex values to real discards the imaginary part\n",
            "  return np.asarray(x, float)\n"
          ]
        },
        {
          "output_type": "display_data",
          "data": {
            "text/plain": [
              "<Figure size 640x480 with 1 Axes>"
            ],
            "image/png": "[encoded data removed]"
          },
          "metadata": {}
        }
      ]
    },
    {
      "cell_type": "code",
      "source": [
        "integral = np.trapz(np.abs(func)**2, x)\n",
        "print(integral)"
      ],
      "metadata": {
        "colab": {
          "base_uri": "https://localhost:8080/"
        },
        "id": "lJ2MwUyaIT2F",
        "outputId": "dd45062f-bfb8-470b-9ff7-56d59e563a5f"
      },
      "execution_count": null,
      "outputs": [
        {
          "output_type": "stream",
          "name": "stdout",
          "text": [
            "0.9999999999999999\n"
          ]
        },
        {
          "output_type": "stream",
          "name": "stderr",
          "text": [
            "<ipython-input-31-050bfeea9148>:1: DeprecationWarning: `trapz` is deprecated. Use `trapezoid` instead, or one of the numerical integration functions in `scipy.integrate`.\n",
            "  integral = np.trapz(np.abs(func)**2, x)\n"
          ]
        }
      ]
    },
    {
      "cell_type": "code",
      "source": [],
      "metadata": {
        "id": "tBtJR7KrNwCv"
      },
      "execution_count": null,
      "outputs": []
    }
  ]
}